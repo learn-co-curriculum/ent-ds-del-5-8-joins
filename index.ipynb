{
 "cells": [
  {
   "cell_type": "markdown",
   "metadata": {},
   "source": [
    "# Join Statements"
   ]
  },
  {
   "cell_type": "markdown",
   "metadata": {},
   "source": [
    "## Introduction\n",
    "\n",
    "In this lesson, we'll introduce join statements and the problems they're designed to solve.\n",
    "\n",
    "## Objectives  \n",
    "\n",
    "You will be able to:  \n",
    "* Understand why joins are important \n",
    "* Compare and contrast the various types of joins\n",
    "* Explain the syntax and structure of join statements\n",
    "* Explain the role of foreign and primary keys in them"
   ]
  },
  {
   "cell_type": "markdown",
   "metadata": {},
   "source": [
    "## The Importance of Joins in SQL\n",
    "\n",
    "The SQL join clause is used to combine records from two or more tables in a database. Why might that be useful/important? Well imagine a customer database. In the simplest possible implementation it might just have a single `customers` table with fields for `first_name`, `last_name` and `email`. \n",
    "\n",
    "Over time, though you might want to store more information about your customers. Perhaps you need to mail them something. In that case, you'll want to store a mailing address in the database. Perhaps we could add `address_1`, `address_2`, `city`, `state` and `zip` fields *(assuming all of our customers are US based)*.\n",
    "\n",
    "That works, but what happens when a user changes their mailing address? We could just update the values contained in the fields, but now we're losing data. For example, if I was to ask \"where did we mail their order 4 months ago\" we wouldn't know by looking at the database because it's possible that we updated the mailing address fields some time in the last four months. And what if we need a billing address for them? Or to provide them with an address book so they can decide whether they want things mailed to their home, work or the hotel they're traveling to?\n",
    "\n",
    "The obvious answer to all of this is that instead of adding the address to the `customers` table, we'd probably be better creating a whole new `addresses` table. But the question then becomes ***\"how do we know which customer a given address belongs to?*** And that is where joins come in.\n",
    "\n",
    "Joins are the primary mechanism for combining data from multiple tables. In order to do this, you define the common attribute(s) between tables in order for them to be combined.\n",
    "\n",
    "\n",
    "## CRM Schema\n",
    "\n",
    "Here's a diagram of a customer relationship management database that we're going to be using in this lesson.\n",
    "<img src='images/Database-Schema.png' width=550>"
   ]
  },
  {
   "cell_type": "markdown",
   "metadata": {},
   "source": [
    "## Connecting to the Database\n",
    "\n",
    "As usual, you'll start by connecting to the database."
   ]
  },
  {
   "cell_type": "code",
   "execution_count": null,
   "metadata": {},
   "outputs": [],
   "source": [
    "import sqlite3\n",
    "import pandas as pd"
   ]
  },
  {
   "cell_type": "code",
   "execution_count": null,
   "metadata": {},
   "outputs": [],
   "source": [
    "conn = sqlite3.connect('data.sqlite', detect_types=sqlite3.PARSE_COLNAMES)\n",
    "cur = conn.cursor()"
   ]
  },
  {
   "cell_type": "markdown",
   "metadata": {},
   "source": [
    "## Displaying product details along with order details\n",
    "Let's say you need to generate some report that includes details about products from orders. To do that, we would need to take data from multiple tables in a single statement."
   ]
  },
  {
   "cell_type": "code",
   "execution_count": null,
   "metadata": {},
   "outputs": [],
   "source": [
    "cur.execute(\"\"\"SELECT * FROM orderdetails\n",
    "                        JOIN products\n",
    "                        ON orderdetails.productCode = products.productCode\n",
    "                        LIMIT 10;\n",
    "                       \"\"\")\n",
    "df = pd.DataFrame(cur.fetchall()) #Take results and create dataframe\n",
    "df.columns = [i[0] for i in cur.description]\n",
    "df.head()"
   ]
  },
  {
   "cell_type": "markdown",
   "metadata": {},
   "source": [
    "## Compared to the individual tables:"
   ]
  },
  {
   "cell_type": "markdown",
   "metadata": {},
   "source": [
    "### orderdetails"
   ]
  },
  {
   "cell_type": "code",
   "execution_count": null,
   "metadata": {},
   "outputs": [],
   "source": [
    "cur.execute(\"\"\"SELECT * FROM orderdetails LIMIT 10;\"\"\")\n",
    "df = pd.DataFrame(cur.fetchall()) #Take results and create dataframe\n",
    "df.columns = [i[0] for i in cur.description]\n",
    "df.head()"
   ]
  },
  {
   "cell_type": "markdown",
   "metadata": {},
   "source": [
    "### products"
   ]
  },
  {
   "cell_type": "code",
   "execution_count": null,
   "metadata": {},
   "outputs": [],
   "source": [
    "cur.execute(\"\"\"SELECT * FROM products LIMIT 10;\"\"\")\n",
    "df = pd.DataFrame(cur.fetchall()) #Take results and create dataframe\n",
    "df.columns = [i[0] for i in cur.description]\n",
    "df.head()"
   ]
  },
  {
   "cell_type": "markdown",
   "metadata": {},
   "source": [
    "## the using clause\n",
    "A more concise way to join the tables if the column name is identical is the using clause. Rather then saying on `tableA.column = tableB.column` we can simply say `using(column)`. Again, this only works if the column is identically named for both tables."
   ]
  },
  {
   "cell_type": "code",
   "execution_count": null,
   "metadata": {},
   "outputs": [],
   "source": [
    "cur.execute(\"\"\"SELECT * FROM orderdetails\n",
    "                        JOIN products\n",
    "                        USING(productCode)\n",
    "                        LIMIT 10;\n",
    "                       \"\"\")\n",
    "df = pd.DataFrame(cur.fetchall()) #Take results and create dataframe\n",
    "df.columns = [i[0] for i in cur.description]\n",
    "df.head()"
   ]
  },
  {
   "cell_type": "markdown",
   "metadata": {},
   "source": [
    "## Aliasing\n",
    "You can also alias tables by giving them an alternative shorthand name directly after them. Here we use the aliases 'o' and 'p' for orderdetails and products respectively. This can save typing if you have to reference the tables multiple times in your queries."
   ]
  },
  {
   "cell_type": "code",
   "execution_count": null,
   "metadata": {},
   "outputs": [],
   "source": [
    "cur.execute(\"\"\"SELECT * FROM orderdetails o\n",
    "                        JOIN products p\n",
    "                        ON o.productCode = p.productCode\n",
    "                        LIMIT 10;\n",
    "                       \"\"\")\n",
    "df = pd.DataFrame(cur.fetchall()) #Take results and create dataframe\n",
    "df.columns = [i[0] for i in cur.description]\n",
    "df.head()"
   ]
  },
  {
   "cell_type": "markdown",
   "metadata": {},
   "source": [
    "## Left Joins\n",
    "\n",
    "By default, a join is an inner join, or the intersection between two tables. In other words, the join between orders and products is only for productCodes that are in both the orderdetails and products tables. If a product had yet to be ordered (and wasn't in the orderdetails table) then it would not be in the result of the join. And if for some reason there was an order detail that referred to an old product that no longer lived in the products table, that record would also not show up.\n",
    "\n",
    "There are many other types of joins, displayed below. Of these, sqlite does not support outer joins, but it is good to be aware of as more powerful versions of sql such as PostgreSQL support these additional functions.\n",
    "\n",
    "<img src='images/venn.png' width=\"700\">"
   ]
  },
  {
   "cell_type": "markdown",
   "metadata": {},
   "source": [
    "For example, the statement  \n",
    "  \n",
    "`SELECT * FROM products LEFT JOIN orderdetails; `  \n",
    "\n",
    "would return all products, even those that hadn't been ordered. \n",
    "You can imagine that all products in inventory should have a description in the product table, but perhaps not every product is represented in the orderdetails table as some may not have been purchased by anyone yet."
   ]
  },
  {
   "cell_type": "code",
   "execution_count": null,
   "metadata": {},
   "outputs": [],
   "source": [
    "cur.execute(\"\"\"SELECT * FROM products\n",
    "                        LEFT JOIN orderdetails\n",
    "                        USING(productCode);\n",
    "                       \"\"\")\n",
    "df = pd.DataFrame(cur.fetchall()) #Take results and create dataframe\n",
    "df.columns = [i[0] for i in cur.description]\n",
    "print(len(df))\n",
    "print(len(df[df.orderNumber.isnull()]))\n",
    "df[df.orderNumber.isnull()].head()"
   ]
  },
  {
   "cell_type": "markdown",
   "metadata": {},
   "source": [
    "As you can see, there is one product that hasn't been ordered yet."
   ]
  },
  {
   "cell_type": "markdown",
   "metadata": {},
   "source": [
    "## Primary Versus Foreign Keys\n",
    "\n",
    "Another important consideration when performing joins is to think more about the key or column you are joining on. As  this can lead to problematic behavior if the join value is not unique in one or both of the tables. In all of the above examples, you joined two tables using the **primary key**. The primary key(s) of a table are those column(s) which uniquely identify a row. You'll also see this designated in our schema diagram with the asterisk (*).\n",
    "<img src='images/Database-Schema.png' width=550>"
   ]
  },
  {
   "cell_type": "markdown",
   "metadata": {},
   "source": [
    "You can also join tables using **foreign keys** which are not the primary key for that particular table, but rather another table. For example, employeeNumber is the primary key for the employees table and corresponds to the salesRepEmployeeNumber of the customers table. In the customers table, salesRepEmployeeNumber is only a foreign key, and is unlikely to be a unique identifier, as it is likely that an employee serves multiple customers. As such, in the resulting view, employeeNumber would no longer be a unique field."
   ]
  },
  {
   "cell_type": "code",
   "execution_count": null,
   "metadata": {},
   "outputs": [],
   "source": [
    "cur.execute(\"\"\"SELECT * FROM customers c\n",
    "                        JOIN employees e\n",
    "                        ON c.salesRepEmployeeNumber = e.employeeNumber\n",
    "                        ORDER BY employeeNumber;\n",
    "                       \"\"\")\n",
    "df = pd.DataFrame(cur.fetchall()) #Take results and create dataframe\n",
    "df.columns = [i[0] for i in cur.description]\n",
    "df.head()"
   ]
  },
  {
   "cell_type": "markdown",
   "metadata": {},
   "source": [
    "Notice that this also returned both columns: salesRepEmployeeNumber and employeeNumber."
   ]
  },
  {
   "cell_type": "markdown",
   "metadata": {},
   "source": [
    "## Summary\n",
    "\n",
    "In this lesson you investigated joins including the `ON` and `USING` SQL key words, aliasing table names, left joins and primary and foreign keys."
   ]
  }
 ],
 "metadata": {
  "kernelspec": {
   "display_name": "Python 3",
   "language": "python",
   "name": "python3"
  },
  "language_info": {
   "codemirror_mode": {
    "name": "ipython",
    "version": 3
   },
   "file_extension": ".py",
   "mimetype": "text/x-python",
   "name": "python",
   "nbconvert_exporter": "python",
   "pygments_lexer": "ipython3",
   "version": "3.6.5"
  }
 },
 "nbformat": 4,
 "nbformat_minor": 2
}
